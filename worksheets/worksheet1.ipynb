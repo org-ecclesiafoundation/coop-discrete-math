{
 "cells": [
  {
   "cell_type": "markdown",
   "id": "38febe36",
   "metadata": {},
   "source": [
    "# Intersection\n",
    "\n",
    "## 1\n",
    "\n",
    "Set A:  v c s j e x z k r y h\n",
    "\n",
    "Set B:  v p m b o w e x t g q\n",
    "\n",
    "Let $S = A \\cap B$\n",
    "\n",
    "1. What is $|S|$<br><br><br>\n",
    "2. What is $S$<br><br><br>\n",
    "3. What is a word $W$ that can be made as follows? $W = (s_1, s_2, ... s_n) : \\{s_1, s_2, ... s_n\\} = S$<br><br><br>\n"
   ]
  },
  {
   "cell_type": "markdown",
   "id": "795cac69",
   "metadata": {},
   "source": [
    "## 2\n",
    "\n",
    "Set A:  l o x c w m f y j e\n",
    "\n",
    "Set B:  s g h d q v b u f l y i\n",
    "\n",
    "Let $S = A \\cap B$\n",
    "\n",
    "1. What is $|S|$<br><br><br>\n",
    "2. What is $S$<br><br><br>\n",
    "3. What is a word $W$ that can be made as follows? $W = (s_1, s_2, ... s_n) : \\{s_1, s_2, ... s_n\\} = S$<br><br><br>\n"
   ]
  },
  {
   "cell_type": "markdown",
   "id": "59f4678e",
   "metadata": {},
   "source": [
    "## 3\n",
    "\n",
    "Set A:  d p l u b n s i x k q m\n",
    "\n",
    "Set B:  y a r o t d i p g v\n",
    "\n",
    "Let $S = A \\cap B$\n",
    "\n",
    "1. What is $|S|$<br><br><br>\n",
    "2. What is $S$<br><br><br>\n",
    "3. What is a word $W$ that can be made as follows? $W = (s_1, s_2, ... s_n) : \\{s_1, s_2, ... s_n\\} = S$<br><br><br>\n"
   ]
  },
  {
   "cell_type": "markdown",
   "id": "653df041",
   "metadata": {},
   "source": [
    "## 4\n",
    "\n",
    "Set A:  d a i n q c e k l f y t\n",
    "\n",
    "Set B:  k o h z v i l n x p g u\n",
    "\n",
    "Let $S = A \\cap B$\n",
    "\n",
    "1. What is $|S|$<br><br><br>\n",
    "2. What is $S$<br><br><br>\n",
    "3. What is a word $W$ that can be made as follows? $W = (s_1, s_2, ... s_n) : \\{s_1, s_2, ... s_n\\} = S$<br><br><br>\n"
   ]
  },
  {
   "cell_type": "markdown",
   "id": "80621595",
   "metadata": {},
   "source": [
    "## 5\n",
    "\n",
    "Set A:  z l i r f j b p h u m\n",
    "\n",
    "Set B:  n p o j g d k s m w c e u\n",
    "\n",
    "Let $S = A \\cap B$\n",
    "\n",
    "1. What is $|S|$<br><br><br>\n",
    "2. What is $S$<br><br><br>\n",
    "3. What is a word $W$ that can be made as follows? $W = (s_1, s_2, ... s_n) : \\{s_1, s_2, ... s_n\\} = S$<br><br><br>\n"
   ]
  },
  {
   "cell_type": "markdown",
   "id": "cad504bd",
   "metadata": {},
   "source": [
    "## 6\n",
    "\n",
    "Set A:  e r s y z a x i d l c h\n",
    "\n",
    "Set B:  k g a n m t j p h z e u\n",
    "\n",
    "Let $S = A \\cap B$\n",
    "\n",
    "1. What is $|S|$<br><br><br>\n",
    "2. What is $S$<br><br><br>\n",
    "3. What is a word $W$ that can be made as follows? $W = (s_1, s_2, ... s_n) : \\{s_1, s_2, ... s_n\\} = S$<br><br><br>\n"
   ]
  },
  {
   "cell_type": "markdown",
   "id": "5b21e7c4",
   "metadata": {},
   "source": [
    "## 7\n",
    "\n",
    "Set A:  l e w o q c t d z g s b a m\n",
    "\n",
    "Set B:  x b l a z e k n j u f v\n",
    "\n",
    "Let $S = A \\cap B$\n",
    "\n",
    "1. What is $|S|$<br><br><br>\n",
    "2. What is $S$<br><br><br>\n",
    "3. What is a word $W$ that can be made as follows? $W = (s_1, s_2, ... s_n) : \\{s_1, s_2, ... s_n\\} = S$<br><br><br>\n"
   ]
  },
  {
   "cell_type": "markdown",
   "id": "4dd99a9a",
   "metadata": {},
   "source": [
    "## 8\n",
    "\n",
    "Set A:  y v w s j m z e l u p\n",
    "\n",
    "Set B:  g p h x y m n o u i d c b k j\n",
    "\n",
    "Let $S = A \\cap B$\n",
    "\n",
    "1. What is $|S|$<br><br><br>\n",
    "2. What is $S$<br><br><br>\n",
    "3. What is a word $W$ that can be made as follows? $W = (s_1, s_2, ... s_n) : \\{s_1, s_2, ... s_n\\} = S$<br><br><br>\n"
   ]
  },
  {
   "cell_type": "markdown",
   "id": "1c823ccf",
   "metadata": {},
   "source": [
    "## 9\n",
    "\n",
    "Set A:  o b t a u c k m z p l n g\n",
    "\n",
    "Set B:  d h e x p c k f u v s l w\n",
    "\n",
    "Let $S = A \\cap B$\n",
    "\n",
    "1. What is $|S|$<br><br><br>\n",
    "2. What is $S$<br><br><br>\n",
    "3. What is a word $W$ that can be made as follows? $W = (s_1, s_2, ... s_n) : \\{s_1, s_2, ... s_n\\} = S$<br><br><br>\n"
   ]
  },
  {
   "cell_type": "markdown",
   "id": "8473760c",
   "metadata": {},
   "source": [
    "## 10\n",
    "\n",
    "Set A:  h e j i x t y r d l g f z u q\n",
    "\n",
    "Set B:  p h u r d l c n e s w k v\n",
    "\n",
    "Let $S = A \\cap B$\n",
    "\n",
    "1. What is $|S|$<br><br><br>\n",
    "2. What is $S$<br><br><br>\n",
    "3. What is a word $W$ that can be made as follows? $W = (s_1, s_2, ... s_n) : \\{s_1, s_2, ... s_n\\} = S$<br><br><br>\n"
   ]
  },
  {
   "cell_type": "markdown",
   "id": "597a0300",
   "metadata": {},
   "source": [
    "## 11\n",
    "\n",
    "Set A:  d f a y h e u r i g m b t v\n",
    "\n",
    "Set B:  i w l r g k n h t j p b x z\n",
    "\n",
    "Let $S = A \\cap B$\n",
    "\n",
    "1. What is $|S|$<br><br><br>\n",
    "2. What is $S$<br><br><br>\n",
    "3. What is a word $W$ that can be made as follows? $W = (s_1, s_2, ... s_n) : \\{s_1, s_2, ... s_n\\} = S$<br><br><br>\n"
   ]
  },
  {
   "cell_type": "markdown",
   "id": "274de999",
   "metadata": {},
   "source": [
    "## 12\n",
    "\n",
    "Set A:  l p x g c b o m s t r h i\n",
    "\n",
    "Set B:  l e q y v m a s u c o z f p n\n",
    "\n",
    "Let $S = A \\cap B$\n",
    "\n",
    "1. What is $|S|$<br><br><br>\n",
    "2. What is $S$<br><br><br>\n",
    "3. What is a word $W$ that can be made as follows? $W = (s_1, s_2, ... s_n) : \\{s_1, s_2, ... s_n\\} = S$<br><br><br>\n"
   ]
  },
  {
   "cell_type": "markdown",
   "id": "eb67d860",
   "metadata": {},
   "source": [
    "## 13\n",
    "\n",
    "Set A:  t y p d u m i x r o g h a l\n",
    "\n",
    "Set B:  d o t r w n e k u g h s v f j z\n",
    "\n",
    "Let $S = A \\cap B$\n",
    "\n",
    "1. What is $|S|$<br><br><br>\n",
    "2. What is $S$<br><br><br>\n",
    "3. What is a word $W$ that can be made as follows? $W = (s_1, s_2, ... s_n) : \\{s_1, s_2, ... s_n\\} = S$<br><br><br>\n"
   ]
  },
  {
   "cell_type": "markdown",
   "id": "f07f1e8a",
   "metadata": {},
   "source": [
    "## 14\n",
    "\n",
    "Set A:  d h v m b i t w j y r c k e\n",
    "\n",
    "Set B:  s g z a x i o l c e d p b r k u\n",
    "\n",
    "Let $S = A \\cap B$\n",
    "\n",
    "1. What is $|S|$<br><br><br>\n",
    "2. What is $S$<br><br><br>\n",
    "3. What is a word $W$ that can be made as follows? $W = (s_1, s_2, ... s_n) : \\{s_1, s_2, ... s_n\\} = S$<br><br><br>\n"
   ]
  },
  {
   "cell_type": "markdown",
   "id": "de35eb2e",
   "metadata": {},
   "source": [
    "## 15\n",
    "\n",
    "Set A:  e y b i c r m z w v s h t d a p\n",
    "\n",
    "Set B:  a r e o j l w f u d s x q v\n",
    "\n",
    "Let $S = A \\cap B$\n",
    "\n",
    "1. What is $|S|$<br><br><br>\n",
    "2. What is $S$<br><br><br>\n",
    "3. What is a word $W$ that can be made as follows? $W = (s_1, s_2, ... s_n) : \\{s_1, s_2, ... s_n\\} = S$<br><br><br>\n"
   ]
  },
  {
   "cell_type": "markdown",
   "id": "be6cb576",
   "metadata": {},
   "source": [
    "## 16\n",
    "\n",
    "Set A:  s q p v x m b u n e g r c h j t\n",
    "\n",
    "Set B:  b u c f i l k r e s a o d w n h\n",
    "\n",
    "Let $S = A \\cap B$\n",
    "\n",
    "1. What is $|S|$<br><br><br>\n",
    "2. What is $S$<br><br><br>\n",
    "3. What is a word $W$ that can be made as follows? $W = (s_1, s_2, ... s_n) : \\{s_1, s_2, ... s_n\\} = S$<br><br><br>\n"
   ]
  },
  {
   "cell_type": "markdown",
   "id": "d2807a6f",
   "metadata": {},
   "source": [
    "## 17\n",
    "\n",
    "Set A:  f e l g s m x z u h w b i r v\n",
    "\n",
    "Set B:  c b u e k r p q j o h f i n s y t\n",
    "\n",
    "Let $S = A \\cap B$\n",
    "\n",
    "1. What is $|S|$<br><br><br>\n",
    "2. What is $S$<br><br><br>\n",
    "3. What is a word $W$ that can be made as follows? $W = (s_1, s_2, ... s_n) : \\{s_1, s_2, ... s_n\\} = S$<br><br><br>\n"
   ]
  },
  {
   "cell_type": "markdown",
   "id": "d0ba1355",
   "metadata": {},
   "source": [
    "## 18\n",
    "\n",
    "Set A:  g a o l n h t e s u c d k i p\n",
    "\n",
    "Set B:  v g c k n x r f u i j y z q m d l\n",
    "\n",
    "Let $S = A \\cap B$\n",
    "\n",
    "1. What is $|S|$<br><br><br>\n",
    "2. What is $S$<br><br><br>\n",
    "3. What is a word $W$ that can be made as follows? $W = (s_1, s_2, ... s_n) : \\{s_1, s_2, ... s_n\\} = S$<br><br><br>\n"
   ]
  }
 ],
 "metadata": {
  "kernelspec": {
   "display_name": "Python 3 (ipykernel)",
   "language": "python",
   "name": "python3"
  },
  "language_info": {
   "codemirror_mode": {
    "name": "ipython",
    "version": 3
   },
   "file_extension": ".py",
   "mimetype": "text/x-python",
   "name": "python",
   "nbconvert_exporter": "python",
   "pygments_lexer": "ipython3",
   "version": "3.11.5"
  }
 },
 "nbformat": 4,
 "nbformat_minor": 5
}
