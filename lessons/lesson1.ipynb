{
 "cells": [
  {
   "cell_type": "markdown",
   "id": "7a85408a",
   "metadata": {},
   "source": [
    "# Games"
   ]
  },
  {
   "cell_type": "markdown",
   "id": "7a23a1ac",
   "metadata": {},
   "source": [
    "## Set"
   ]
  },
  {
   "cell_type": "markdown",
   "id": "f080247f",
   "metadata": {},
   "source": [
    "### How to score points\n",
    "\n",
    "Points are scored by being the first to call out and identify a set of three cards."
   ]
  },
  {
   "cell_type": "markdown",
   "id": "19fac262",
   "metadata": {},
   "source": [
    "### Card properties\n",
    "\n",
    "Number of elements: $A = \\{1, 2, 3\\}$\n",
    "\n",
    "Color of element(s): $B = \\{red, green, purple\\}$\n",
    "\n",
    "Fill style of element(s): $C = \\{solid, hollow, striped\\}$\n",
    "\n",
    "Shape of element(s): $D = \\{oval, squiggle, diamond\\}$"
   ]
  },
  {
   "cell_type": "markdown",
   "id": "f980e63e",
   "metadata": {},
   "source": [
    "### How do we mathematically represent a card?\n",
    "\n",
    "Card: 4-tuple from the Cartesian Product, $A \\times B \\times C \\times D$,\n",
    "\n",
    "denoted as $Card = (a, b, c, d)$ where $a \\in A, b \\in B, c \\in C, d \\in D$"
   ]
  },
  {
   "cell_type": "markdown",
   "id": "b03c6aa6",
   "metadata": {},
   "source": [
    "### How do cards form a set?\n",
    "\n",
    "Given three cards $X, Y, Z,$ they form a set if\n",
    "\n",
    "$$\n",
    "\\forall i \\in \\{1,2,3,4\\} ((x_i = y_i \\land x_i = z_i) \\lor\\\\ (x_i \\neq y_i \\land x_i \\neq z_i \\land y_i \\neq z_i))\n",
    "$$\n",
    "\n",
    "where $x_i, y_i, z_i$ are the ith attributes of each card $X, Y, Z,$ respectively"
   ]
  },
  {
   "cell_type": "markdown",
   "id": "6544fceb",
   "metadata": {},
   "source": [
    "---"
   ]
  },
  {
   "cell_type": "markdown",
   "id": "a65ea35d",
   "metadata": {},
   "source": [
    "## Intersection"
   ]
  },
  {
   "cell_type": "markdown",
   "id": "5603c865",
   "metadata": {},
   "source": [
    "### How to score points\n",
    "\n",
    "#### As a team game\n",
    "\n",
    "Points are scored by being the first team to answer the questions posed about each pair of sets, $A, B$ you are given.\n",
    "\n",
    "#### As an individual game\n",
    "\n",
    "Points are scored by correctly answering the questions posed about each pair of sets, $A, B$ you are given."
   ]
  },
  {
   "cell_type": "markdown",
   "id": "6ac2dc32",
   "metadata": {},
   "source": [
    "### What questions are asked?\n",
    "\n",
    "Let $S = A \\cap B$\n",
    "\n",
    "1. What is $|S|$\n",
    "2. What is $S$\n",
    "\n",
    "A third question may be asked,\n",
    "\n",
    "3. What is a word $W$ that can be made as follows?\n",
    "$$\n",
    "W = (s_1, s_2, ... s_n) : \\{s_1, s_2, ... s_n\\} = S\n",
    "$$"
   ]
  },
  {
   "cell_type": "markdown",
   "id": "bcf8815f",
   "metadata": {},
   "source": [
    "## Glossary\n",
    "\n",
    "### Abstraction\n",
    "\n",
    "The process of simplifying complex systems by hiding unnecessary details and emphasizing only the relevant features, allowing one to focus on higher-level concepts without getting bogged down by details.\n",
    "\n",
    "#### What are some examples of abstraction?\n",
    "\n",
    "- Using numbers and writing them down rather than \"guesstimating\".\n",
    "- Using measurement units like cups, tablespoons, inches, and the like. This isan abstraction of mathematical units over physical properties like \"how much\", and \"how long\"?\n",
    "- Seconds, minutes, hours, days, weeks, months, years, decades, centuries, and millennia are abstractions that let us organize and measure time.\n",
    "- Giving names to sets rather than listing out all the elements every time we refer to them.\n",
    "- Giving names to shapes rather than drawing them all out or pointing at them every time we see one.\n",
    "- Having computers and computer screens that print out pictures and words that we can see rather than just a series of zeroes and ones (electrical pulses) that exist in memory and in the processor.\n",
    "\n",
    "#### Why do we need abstraction?\n",
    "\n",
    "1. **To manage complexity:** Real-world systems, be it in computer science, engineering, or other disciplines, can be exceedingly complex. Abstraction allows us to break down systems into manageable, comprehensible components.\n",
    "2. **Higher-level thinking:** Abstraction facilitates thinking at a higher level. Instead of getting caught up in minutiae, one can focus on the broader picture, strategy, or design. This is crucial in areas like solution design, where the overarching approach or technique is more significant than the specific implementation details.\n",
    "3. **Facilitate Communication:** Abstractions can serve as shared mental models when discussing complex systems. For instance, when discussing a math problem or a software system, it's more efficient to discuss in terms of high-level goals and procedures and their interactions rather than every specific element in a set, or every single line of code.\n",
    "\n",
    "### Set\n",
    "\n",
    "Imagine a box where you keep some of your toys. A set is like that box, but instead of toys, it contains numbers or other items. Just remember, no two items in the set are exactly the same!\n",
    "\n",
    "Example: Let $T$ be the set of toys I have for playing baseball, $T = \\{ball, bat, glove\\}$\n",
    "\n",
    "### Tuple\n",
    "\n",
    "Think of a tuple as a small list where the order matters. For example, your home address can be thought of as a tuple because the order $(house number, street, city, state)$ is important!\n",
    "\n",
    "### Index of Tuple Element\n",
    "\n",
    "If you think of a tuple as a list, the index tells you the position of an item in that list. Just like when you count your fingers, you start with 1, 2, 3, and so on.\n",
    "\n",
    "Example: Let $C$ be the tuple of colors, $C = (red, orange, yellow, green, blue, indigo, violet)$\n",
    "\n",
    "$$\n",
    "c_1 = red,\n",
    "c_2 = orange,\n",
    "c_3 = yellow,\n",
    "c_4 = green,\n",
    "c_5 = blue,\n",
    "c_6 = indigo,\n",
    "c_7 = violet\n",
    "$$\n",
    "\n",
    "Where $c_i$ is the ith element of $C$\n",
    "\n",
    "### Cartesian Product\n",
    "\n",
    "Let's say you have two lists: one of your favorite colors and one of your favorite animals. The Cartesian product is like making every possible combination of a color with an animal. So, if you have \"red\" and \"cat\", one combination could be \"red cat\". A Cartesian Product of two sets is a set, and an element of a Cartesian Product is a tuple.\n",
    "\n",
    "Example: Let $A$ be the set of animals, $A = \\{cat, dog, hamster\\}$, and $C$ be the set of colors, $C = \\{black, white, brown\\}$\n",
    "\n",
    "The Cartesian Product of animals and colors is:\n",
    "$$\n",
    "A \\times C = \\{(cat,black),(cat,white),(cat,brown),\\\\\n",
    "(dog,black),(dog,white),(dog,brown),\\\\\n",
    "(hamster,black),(hamster,white),(hamster,brown)\\}\n",
    "$$\n",
    " \n",
    "### Element of\n",
    "\n",
    "This is a fancy way of saying \"is a part of.\" So, if you have a box of crayons and blue is one of the crayon colors, then blue is an \"element of\" that crayon box.\n",
    "\n",
    "Example: Let $C$ be the set of colors, $C = \\{red, orange, yellow, green, blue, indigo, violet\\}$\n",
    "\n",
    "$$\n",
    "yellow \\in C,\n",
    "blue \\in C,\n",
    "fuschia \\notin C\n",
    "$$\n",
    "\n",
    "### For all\n",
    "\n",
    "This means \"for every single one.\" For instance, if we say \"For all dogs, they have four legs\", we mean every dog has four legs.\n",
    "\n",
    "\n",
    "Example: Let's define a function that assigns to each dog the number of legs it has.\n",
    "\n",
    "**Definition:** Let $f: D \\to \\mathbb{N}$ be a function where $D$ represents the set of all dogs and $\\mathbb{N}$ represents the set of natural numbers. For any dog $d \\in D$, the function $legs(d)$ outputs the number of legs that the dog $d$ has.\n",
    "\n",
    "Given this function, the statement \"Every dog has four legs\" can be mathematically represented as:\n",
    "\n",
    "$\\forall d \\in D, legs(d) = 4$\n",
    "\n",
    "This translates to: \"For every dog $d$ in the set $D$ of all dogs, the function $legs$ yields the value 4 when applied to $d$.\"\n",
    "\n",
    "---\n",
    "\n",
    "We can say that for all numbers $x$ in the set $\\{2, 4, 6, 8\\}$, the remainder is 0 when the element is divided by 2.\n",
    "\n",
    "Example:\n",
    "\n",
    "$$\n",
    "\\forall x \\in \\{2, 4, 6, 8\\}, x \\mod 2 = 0\n",
    "$$\n",
    "\n",
    "### And\n",
    "\n",
    "This is like saying both things are true. If you say, \"It's raining, and I have an umbrella,\" it means it's true you're facing rain and also true that you have an umbrella.\n",
    "\n",
    "Example: Let $p =$ \"It is raining\", and $q =$ \"I have an umbrella\", then \"It's raining, and I have an umbrella\" is mathematically equivalent to $p \\land q$\n",
    "\n",
    "### Or\n",
    "\n",
    "This means at least one of the things is true. If you say, \"I'll have ice cream or cake,\" you're happy with either ice cream, cake, or even both!\n",
    "\n",
    "Example: Let $p =$ \"I'll have ice cream\", and $q =$ \"I'll have cake\", then \"I'll have ice cream or cake\" is mathematically equivalent to $p \\lor q$\n",
    "\n",
    "### Intersection\n",
    "\n",
    "Think of two circles that overlap a little. The part where they overlap is the intersection. In the world of sets, the intersection is where two sets share the same items. So, if you and your friend both like the same movie, that movie is in the \"intersection\" of movies you both like.\n",
    "\n",
    "Example: Let $A$ be the set of movies Aaron likes, and $B$ be the set of movies Brayden likes\n",
    "\n",
    "$$\n",
    "A = \\{LOTR, StarWars, TheLoneRanger\\},\n",
    "B = \\{LOTR, StarWars, PinkPanther, Oppenheimer\\},\\\\\n",
    "A \\cap B = \\{LOTR, StarWars\\}\n",
    "$$"
   ]
  }
 ],
 "metadata": {
  "kernelspec": {
   "display_name": "Python 3 (ipykernel)",
   "language": "python",
   "name": "python3"
  },
  "language_info": {
   "codemirror_mode": {
    "name": "ipython",
    "version": 3
   },
   "file_extension": ".py",
   "mimetype": "text/x-python",
   "name": "python",
   "nbconvert_exporter": "python",
   "pygments_lexer": "ipython3",
   "version": "3.11.5"
  }
 },
 "nbformat": 4,
 "nbformat_minor": 5
}
